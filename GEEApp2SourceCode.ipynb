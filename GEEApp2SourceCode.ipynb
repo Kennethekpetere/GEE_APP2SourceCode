{
 "cells": [
  {
   "cell_type": "markdown",
   "id": "bcf90fcf-3119-4ecb-8977-ef35270b9b08",
   "metadata": {},
   "source": [
    "## **Google Earth Engine App To Source Code**"
   ]
  },
  {
   "cell_type": "code",
   "execution_count": null,
   "id": "d330b62c-2b2f-40a3-9fc1-9b3dd5b1955e",
   "metadata": {},
   "outputs": [],
   "source": [
    "#########################################################################################################################\n",
    "##############################################   Kenneth EKpetere   #####################################################\n",
    "##############################################       (C) 2023       #####################################################\n",
    "#########################################################################################################################"
   ]
  },
  {
   "cell_type": "markdown",
   "id": "f9dd3e57-e765-4e6b-bda1-94f8e823ed4c",
   "metadata": {},
   "source": [
    "####  ***You may distribute but don't modify without consent***"
   ]
  },
  {
   "cell_type": "markdown",
   "id": "30f40b63-f09a-4066-9ae1-fa3bb86935a6",
   "metadata": {},
   "source": [
    "#### ***Install geeadd package***"
   ]
  },
  {
   "cell_type": "code",
   "execution_count": null,
   "id": "bf6d16c9-cab1-4fdd-ac59-533bf1b1f7ea",
   "metadata": {},
   "outputs": [],
   "source": [
    "# # Install geeadd library\n",
    "# conda install -c conda-forge geeadd\n",
    "# conda install -c conda-forge geeadd=1.0.1 # check for update\n",
    "# pip install geeadd"
   ]
  },
  {
   "cell_type": "markdown",
   "id": "fdb9b8ee-2336-41ab-ae4e-873192259f98",
   "metadata": {},
   "source": [
    "#### ***Import Libraries***"
   ]
  },
  {
   "cell_type": "code",
   "execution_count": null,
   "id": "a57fad88-8411-4fc2-ba4c-dd6acdb9ffa4",
   "metadata": {},
   "outputs": [],
   "source": [
    "import argparse\n",
    "import geeadd\n",
    "import subprocess"
   ]
  },
  {
   "cell_type": "markdown",
   "id": "875089c3-de8c-48c7-b9b7-f64916c6209b",
   "metadata": {},
   "source": [
    "#### ***Run GEE App to Source Code***"
   ]
  },
  {
   "cell_type": "code",
   "execution_count": null,
   "id": "809ee33c-7162-4d7c-99aa-45e788241b40",
   "metadata": {},
   "outputs": [],
   "source": [
    "def extract_gee_script(url, outfile):\n",
    "    try:\n",
    "        # Use subprocess to execute the geeadd command\n",
    "        cmd = f'geeadd app2script --url \"{url}\" --outfile \"{outfile}\"'\n",
    "        subprocess.run(cmd, shell=True, check=True)\n",
    "        print(f\"JavaScript source code has been saved to '{outfile}'\")\n",
    "    \n",
    "    except subprocess.CalledProcessError as e:\n",
    "        print(f\"Error: {e}\")\n",
    "    \n",
    "    except Exception as e:\n",
    "        print(f\"An error occurred: {str(e)}\")\n",
    "\n",
    "if __name__ == \"__main__\":\n",
    "    \n",
    "    # Enter the Google Earth Engine application link\n",
    "    app_link = input(\"Enter the Google Earth Engine application link: \")\n",
    "    \n",
    "    # Enter the complete output file path\n",
    "    output_file = input(\"Enter the output file path (e.g., C:\\\\path\\\\to\\\\output.js): \")\n",
    "    \n",
    "    # Call the function to extract and save the JavaScript source code\n",
    "    extract_gee_script(app_link, output_file)"
   ]
  },
  {
   "cell_type": "markdown",
   "id": "6394c989-8ba8-4d2b-a9c5-cf0bb2f96120",
   "metadata": {},
   "source": [
    "####  ***You may distribute but don't modify without consent***"
   ]
  }
 ],
 "metadata": {
  "kernelspec": {
   "display_name": "Python 3 (ipykernel)",
   "language": "python",
   "name": "python3"
  },
  "language_info": {
   "codemirror_mode": {
    "name": "ipython",
    "version": 3
   },
   "file_extension": ".py",
   "mimetype": "text/x-python",
   "name": "python",
   "nbconvert_exporter": "python",
   "pygments_lexer": "ipython3",
   "version": "3.8.15"
  }
 },
 "nbformat": 4,
 "nbformat_minor": 5
}
