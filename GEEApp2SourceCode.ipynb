{
 "cells": [
  {
   "cell_type": "markdown",
   "id": "bcf90fcf-3119-4ecb-8977-ef35270b9b08",
   "metadata": {},
   "source": [
    "## **GOOGLE EARTH ENGINE APP TO SOURCE CODE**"
   ]
  },
  {
   "cell_type": "code",
   "execution_count": null,
   "id": "d330b62c-2b2f-40a3-9fc1-9b3dd5b1955e",
   "metadata": {},
   "outputs": [],
   "source": [
    "#########################################################################################################################\n",
    "##############################################   Kenneth EKpetere   #####################################################\n",
    "##############################################       (C) 2023       #####################################################\n",
    "#########################################################################################################################"
   ]
  },
  {
   "cell_type": "markdown",
   "id": "f9dd3e57-e765-4e6b-bda1-94f8e823ed4c",
   "metadata": {},
   "source": [
    "####  ***You may use and distribute but don't modify without consent***"
   ]
  },
  {
   "cell_type": "markdown",
   "id": "30f40b63-f09a-4066-9ae1-fa3bb86935a6",
   "metadata": {},
   "source": [
    "### ****Base Package Installation****"
   ]
  },
  {
   "cell_type": "markdown",
   "id": "759146cc-88b1-4e54-94e0-ca6f7d06d227",
   "metadata": {},
   "source": [
    "##### This tool assumes that Earth Engine Python API is installed as desribed [here](https://developers.google.com/earth-engine/guides/python_install)"
   ]
  },
  {
   "cell_type": "markdown",
   "id": "94d9d10b-4742-4b8a-a66a-f79dff56750b",
   "metadata": {},
   "source": [
    "#### ****Summery Steps for EE installation****"
   ]
  },
  {
   "cell_type": "markdown",
   "id": "c8b9631a-6b97-4095-b1db-6a4041f7dbfc",
   "metadata": {
    "tags": []
   },
   "source": [
    "##### Install the EE API to an arbitrary Python environment using [pip](https://pypi.org/project/pip/). You need to perform ee installation task once for every new environment."
   ]
  },
  {
   "cell_type": "code",
   "execution_count": null,
   "id": "f67d646f-952f-46da-bb4e-d8a9e5dc1c24",
   "metadata": {},
   "outputs": [],
   "source": [
    "pip install earthengine-ap"
   ]
  },
  {
   "cell_type": "code",
   "execution_count": null,
   "id": "1efff31b-17b8-4a42-8e5d-d6da2cd46b34",
   "metadata": {},
   "outputs": [],
   "source": [
    "pip install earthengine-api --upgrade  # Check for update and upgrade"
   ]
  },
  {
   "cell_type": "markdown",
   "id": "47520c28-70ec-4c54-81e7-ed02b0c493db",
   "metadata": {},
   "source": [
    "##### Import the EE Python API package called ee"
   ]
  },
  {
   "cell_type": "code",
   "execution_count": null,
   "id": "45583b01-498b-41ee-b455-341e54629b3a",
   "metadata": {},
   "outputs": [],
   "source": [
    "import ee"
   ]
  },
  {
   "cell_type": "markdown",
   "id": "9f1ef4b5-5295-4be5-800a-01d38e9f1cb6",
   "metadata": {},
   "source": [
    "#### ****Install geeadd package****"
   ]
  },
  {
   "cell_type": "markdown",
   "id": "577c113f-c096-4c5d-ab30-9e64ac9de6cf",
   "metadata": {},
   "source": [
    "##### To learn about the geeadd package check [here](https://github.com/gee-hydro/geeadd/blob/master/README.md)."
   ]
  },
  {
   "cell_type": "code",
   "execution_count": null,
   "id": "5ffe2393-e1ae-4163-b17d-036cf2bc2e76",
   "metadata": {
    "tags": []
   },
   "outputs": [],
   "source": [
    "pip install geeadd"
   ]
  },
  {
   "cell_type": "code",
   "execution_count": null,
   "id": "7508093a-761d-4ed9-8825-dadcbfef76b8",
   "metadata": {},
   "outputs": [],
   "source": [
    "# pip install geeadd --user   # Alternative method"
   ]
  },
  {
   "cell_type": "code",
   "execution_count": null,
   "id": "bf6d16c9-cab1-4fdd-ac59-533bf1b1f7ea",
   "metadata": {},
   "outputs": [],
   "source": [
    "###########  You can install geeadd using conda #################\n",
    "# conda install -c conda-forge geeadd\n",
    "# conda install -c conda-forge geeadd=1.0.1 # check for update"
   ]
  },
  {
   "cell_type": "markdown",
   "id": "fdb9b8ee-2336-41ab-ae4e-873192259f98",
   "metadata": {},
   "source": [
    "#### ****Import Libraries****"
   ]
  },
  {
   "cell_type": "code",
   "execution_count": null,
   "id": "a57fad88-8411-4fc2-ba4c-dd6acdb9ffa4",
   "metadata": {},
   "outputs": [],
   "source": [
    "import argparse\n",
    "import geeadd\n",
    "import subprocess"
   ]
  },
  {
   "cell_type": "markdown",
   "id": "875089c3-de8c-48c7-b9b7-f64916c6209b",
   "metadata": {},
   "source": [
    "#### ****Run GEE App to Source Code****"
   ]
  },
  {
   "cell_type": "code",
   "execution_count": null,
   "id": "809ee33c-7162-4d7c-99aa-45e788241b40",
   "metadata": {},
   "outputs": [],
   "source": [
    "def extract_gee_script(url, outfile):\n",
    "    try:\n",
    "        # Use subprocess to execute the geeadd command\n",
    "        cmd = f'geeadd app2script --url \"{url}\" --outfile \"{outfile}\"'\n",
    "        subprocess.run(cmd, shell=True, check=True)\n",
    "        print(f\"JavaScript source code has been saved to '{outfile}'\")\n",
    "    \n",
    "    except subprocess.CalledProcessError as e:\n",
    "        print(f\"Error: {e}\")\n",
    "    \n",
    "    except Exception as e:\n",
    "        print(f\"An error occurred: {str(e)}\")\n",
    "\n",
    "if __name__ == \"__main__\":\n",
    "    \n",
    "    # Enter the Google Earth Engine application link\n",
    "    app_link = input(\"Enter the Google Earth Engine application link: \")\n",
    "    \n",
    "    # Enter the complete output file path\n",
    "    output_file = input(\"Enter the output file path (e.g., C:\\\\path\\\\to\\\\output.js): \")\n",
    "    \n",
    "    # Call the function to extract and save the JavaScript source code\n",
    "    extract_gee_script(app_link, output_file)"
   ]
  },
  {
   "cell_type": "markdown",
   "id": "6394c989-8ba8-4d2b-a9c5-cf0bb2f96120",
   "metadata": {},
   "source": [
    "####  ***You may use and distribute but don't modify without consent***"
   ]
  }
 ],
 "metadata": {
  "kernelspec": {
   "display_name": "Python 3 (ipykernel)",
   "language": "python",
   "name": "python3"
  },
  "language_info": {
   "codemirror_mode": {
    "name": "ipython",
    "version": 3
   },
   "file_extension": ".py",
   "mimetype": "text/x-python",
   "name": "python",
   "nbconvert_exporter": "python",
   "pygments_lexer": "ipython3",
   "version": "3.11.5"
  }
 },
 "nbformat": 4,
 "nbformat_minor": 5
}
